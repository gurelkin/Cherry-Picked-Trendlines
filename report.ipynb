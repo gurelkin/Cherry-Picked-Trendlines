{
 "cells": [
  {
   "metadata": {},
   "cell_type": "markdown",
   "source": "# Introduction",
   "id": "1ec03adc513eb365"
  },
  {
   "metadata": {},
   "cell_type": "markdown",
   "source": "This Jupyter Notebook runs a series of experiments related to various real-world datasets. The analysis evaluates statements using statistical methods and different support constraints. Each experiment prints its results, providing insights into different phenomena.",
   "id": "530612877908dd3a"
  },
  {
   "metadata": {
    "ExecuteTime": {
     "end_time": "2025-02-23T07:30:37.722181Z",
     "start_time": "2025-02-23T07:30:32.078808Z"
    }
   },
   "cell_type": "code",
   "source": "import experiments",
   "id": "a85b6da8217250e7",
   "outputs": [],
   "execution_count": 1
  },
  {
   "metadata": {},
   "cell_type": "markdown",
   "source": "# Section 1: Paper Algorithms - Experiments On Real-World Datasets",
   "id": "ff1860b38f06b2b9"
  },
  {
   "metadata": {},
   "cell_type": "markdown",
   "source": "## 1.1 Beer Sheva Temperature Experiment",
   "id": "1c7e103bf540a63a"
  },
  {
   "metadata": {},
   "cell_type": "markdown",
   "source": [
    "This experiment checks whether Beer-Sheva's summer is significantly hotter than its winter.\n",
    "The analysis includes both unconstrained and constrained comparisons of temperature distributions."
   ],
   "id": "b4a6008bd435d2b4"
  },
  {
   "metadata": {},
   "cell_type": "code",
   "outputs": [],
   "execution_count": null,
   "source": "experiments.beer_sheva_temps()",
   "id": "d7d4cab869ceb6d6"
  },
  {
   "metadata": {},
   "cell_type": "markdown",
   "source": "## 1.2 Dead Sea Level Experiment",
   "id": "3f5d11450fae964d"
  },
  {
   "metadata": {},
   "cell_type": "markdown",
   "source": [
    "This experiment examines whether the Dead Sea level has been rising since 1991.\n",
    "The dataset contains sea level measurements from before and after 1991."
   ],
   "id": "6abb3422abafef37"
  },
  {
   "metadata": {},
   "cell_type": "code",
   "outputs": [],
   "execution_count": null,
   "source": "experiments.dead_sea_level()",
   "id": "5f252b1a538ecd42"
  },
  {
   "metadata": {},
   "cell_type": "markdown",
   "source": "## 1.3 African GDP Experiment",
   "id": "c93c8b642535ae80"
  },
  {
   "metadata": {},
   "cell_type": "markdown",
   "source": [
    "This experiment evaluates the impact of the 2008 financial crisis on African countries' GDP.\n",
    "It compares GDPs of African countries in 2008 and 2009, considering country-wise constraints."
   ],
   "id": "69529dd150bdaaac"
  },
  {
   "metadata": {},
   "cell_type": "code",
   "outputs": [],
   "execution_count": null,
   "source": "experiments.african_gdp()",
   "id": "ce73fe2673d3c3d4"
  },
  {
   "metadata": {},
   "cell_type": "markdown",
   "source": "## 1.4 Germany Rainfall Experiment",
   "id": "6bb1bba91c6ae849"
  },
  {
   "metadata": {},
   "cell_type": "markdown",
   "source": [
    "This experiment analyzes rainfall similarities between Düsseldorf and Berlin.\n",
    "It ensures comparisons are made for the same months and years."
   ],
   "id": "675e4f4036bf105f"
  },
  {
   "metadata": {},
   "cell_type": "code",
   "outputs": [],
   "execution_count": null,
   "source": "experiments.germany_rainfall()",
   "id": "9730dbe8d9656c1b"
  },
  {
   "metadata": {},
   "cell_type": "markdown",
   "source": "## 1.5 Danish House Pricing Experiment\n",
   "id": "a76865d464b0e3a3"
  },
  {
   "metadata": {},
   "cell_type": "markdown",
   "source": [
    "This experiment examines whether house prices in Denmark remain consistent\n",
    "within the same city, quarter, and number of rooms."
   ],
   "id": "2fbeb21b726d2f0d"
  },
  {
   "metadata": {},
   "cell_type": "code",
   "outputs": [],
   "execution_count": null,
   "source": "experiments.danish_house()",
   "id": "e7b46021045f2c9a"
  },
  {
   "metadata": {},
   "cell_type": "markdown",
   "source": "# Section 2: Graphical Analysis\n",
   "id": "a39c3be0e26c8c07"
  },
  {
   "metadata": {},
   "cell_type": "markdown",
   "source": "## 2.1 Tightest Statement per Support Graph\n",
   "id": "d27da4c039fad762"
  },
  {
   "metadata": {},
   "cell_type": "markdown",
   "source": [
    "This graph visually represents the tightest statement at various support levels.\n",
    "It uses a vertical stick graph to show how statements change with different support percentages."
   ],
   "id": "314054f7e66c3afc"
  },
  {
   "metadata": {},
   "cell_type": "code",
   "outputs": [],
   "execution_count": null,
   "source": "experiments.beer_sheva_temps_ts_graph()",
   "id": "654eab485039a053"
  },
  {
   "metadata": {},
   "cell_type": "markdown",
   "source": "## 2.2 Most Supported Statement per Statement Range Graph\n",
   "id": "ffa6f94fb8343df0"
  },
  {
   "metadata": {},
   "cell_type": "markdown",
   "source": [
    "This graph shows the most supported statement for different temperature ranges.\n",
    "It includes two plots:\n",
    " - The first shows statement ranges using vertical sticks.\n",
    " - The second shows support levels as red bars."
   ],
   "id": "8874be5d34e30dee"
  },
  {
   "metadata": {},
   "cell_type": "code",
   "outputs": [],
   "execution_count": null,
   "source": "experiments.beer_sheva_temps_mss_graph()",
   "id": "1c63e674cc705b9e"
  }
 ],
 "metadata": {
  "kernelspec": {
   "name": "python3",
   "language": "python",
   "display_name": "Python 3 (ipykernel)"
  }
 },
 "nbformat": 5,
 "nbformat_minor": 9
}
